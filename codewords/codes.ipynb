{
 "cells": [
  {
   "cell_type": "code",
   "execution_count": 39,
   "metadata": {},
   "outputs": [],
   "source": [
    "import requests as r\n",
    "import re\n",
    "import numpy as np\n",
    "from numpy.random import choice"
   ]
  },
  {
   "cell_type": "code",
   "execution_count": 115,
   "metadata": {
    "collapsed": true
   },
   "outputs": [],
   "source": [
    "def get_corpus(title):\n",
    "    request = r.get(\"https://es.wikipedia.org/w/api.php\",\n",
    "                   params = {\n",
    "                       \"action\": \"query\",\n",
    "                       \"format\": \"json\",\n",
    "                       \"titles\": title,\n",
    "                       \"prop\": \"extracts\",\n",
    "                       \"explaintext\": True\n",
    "                   })\n",
    "    parsed = next(iter(request.json()[\"query\"][\"pages\"].values()))\n",
    "    return parsed[\"extract\"]\n",
    "\n",
    "def replace_accents(word):\n",
    "    accents = [(\"á\", \"a\"), (\"é\", \"e\"), (\"í\",\"i\"), (\"ó\", \"o\"), (\"ú\", \"u\")]\n",
    "    for acc, raw in accents:\n",
    "        word = word.replace(acc, raw)\n",
    "    return word\n",
    "\n",
    "def filter_reduce(word, void_list):\n",
    "    return replace_accents(word)"
   ]
  },
  {
   "cell_type": "code",
   "execution_count": 64,
   "metadata": {
    "collapsed": true
   },
   "outputs": [],
   "source": [
    "\"μαθηματική \"\n",
    "with open(\"void.txt\", \"a\") as f:\n",
    "    for match in re.findall(r\"[a-z]{1,4}\", words):\n",
    "        f.write(match + \"\\n\")\n",
    "\n",
    "with open(\"void.txt\", \"r\") as f:\n",
    "    void_words = f.read().split(\"\\n\")"
   ]
  },
  {
   "cell_type": "code",
   "execution_count": 124,
   "metadata": {},
   "outputs": [],
   "source": [
    "words = get_corpus(\"Matemáticas\")\n",
    "words = re.sub(r\"[^\\w\\s]\", \"\", mates).lower()\n",
    "\n",
    "word_choice = words.split()\n",
    "word_choice = [replace_accents(w) for w in word_choice]\n",
    "word_choice = list(filter(lambda st: st not in void_words, word_choice))"
   ]
  },
  {
   "cell_type": "code",
   "execution_count": 152,
   "metadata": {
    "collapsed": true
   },
   "outputs": [],
   "source": [
    "with open(\"passes.txt\", \"w\") as f:\n",
    "    for i in range(500):\n",
    "        passcode = \"-\".join(choice(word_choice, 5))\n",
    "        f.write(passcode + \"\\n\")"
   ]
  }
 ],
 "metadata": {
  "kernelspec": {
   "display_name": "Python 3",
   "language": "python",
   "name": "python3"
  },
  "language_info": {
   "codemirror_mode": {
    "name": "ipython",
    "version": 3
   },
   "file_extension": ".py",
   "mimetype": "text/x-python",
   "name": "python",
   "nbconvert_exporter": "python",
   "pygments_lexer": "ipython3",
   "version": "3.6.2"
  }
 },
 "nbformat": 4,
 "nbformat_minor": 2
}
